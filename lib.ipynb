{
 "cells": [
  {
   "cell_type": "code",
   "execution_count": 1,
   "id": "9d36e96d",
   "metadata": {},
   "outputs": [
    {
     "name": "stdout",
     "output_type": "stream",
     "text": [
      "Defaulting to user installation because normal site-packages is not writeable\n",
      "Requirement already satisfied: pymongo in c:\\users\\kikenan\\appdata\\roaming\\python\\python39\\site-packages (4.2.0)\n"
     ]
    }
   ],
   "source": [
    "!pip install pymongo"
   ]
  },
  {
   "cell_type": "code",
   "execution_count": 2,
   "id": "84077f03",
   "metadata": {},
   "outputs": [],
   "source": [
    "import pymongo\n",
    "import pandas as pd\n",
    "from datetime import date\n",
    "import time\n",
    "\n",
    "from tkinter import *\n",
    "import tkinter"
   ]
  },
  {
   "cell_type": "code",
   "execution_count": 3,
   "id": "bc477aeb",
   "metadata": {},
   "outputs": [],
   "source": [
    "client = pymongo.MongoClient(\"mongodb://localhost:27017\")\n",
    "mydb = client[\"my_library\"]\n",
    "mycol = mydb[\"users\"]\n",
    "books_col = mydb[\"books\"]\n"
   ]
  },
  {
   "cell_type": "code",
   "execution_count": 4,
   "id": "33faa372",
   "metadata": {
    "scrolled": true
   },
   "outputs": [],
   "source": [
    "# initilize TKs\n",
    "welcome = Tk()\n",
    "reg_tk = Tk()\n",
    "login_tk = Tk()\n",
    "\n",
    "##### Register UI\n",
    "name = Label(reg_tk, text = 'Name')\n",
    "name.pack()\n",
    "name.config(justify = CENTER)\n",
    "\n",
    "name_input = Entry(reg_tk, width = 30)\n",
    "name_input.pack()\n",
    "\n",
    "#Dept\n",
    "dept = Label(reg_tk, text = 'Dept')\n",
    "dept.pack()\n",
    "dept.config(justify = CENTER)\n",
    "\n",
    "dept_input = Entry(reg_tk, width = 30)\n",
    "dept_input.pack()\n",
    "\n",
    "#Phone number\n",
    "phone_num = Label(reg_tk, text = 'Phone')\n",
    "phone_num.pack()\n",
    "phone_num.config(justify = CENTER)\n",
    "\n",
    "phone_num_input = Entry(reg_tk, width = 30)\n",
    "phone_num_input.pack()\n",
    "\n",
    "#mail ID\n",
    "mail_id = Label(reg_tk, text = 'Email')\n",
    "mail_id.pack()\n",
    "mail_id.config(justify = CENTER)\n",
    "\n",
    "mail_id_input = Entry(reg_tk, width = 30)\n",
    "mail_id_input.pack()\n",
    "\n",
    "#mail ID\n",
    "password = Label(reg_tk, text = 'Password')\n",
    "password.pack()\n",
    "password.config(justify = CENTER)\n",
    "\n",
    "password_input = Entry(reg_tk, show=\"*\", width = 30)\n",
    "password_input.pack()\n",
    "\n",
    "#Register submit\n",
    "def register_user():\n",
    "    reg_tk.grab_set();\n",
    "\n",
    "register_submit = Button(reg_tk, text = 'Register')\n",
    "register_submit.pack() \n",
    "register_submit.config(command = register_user)\n",
    "\n",
    "\n",
    "\n",
    "#########login UI\n",
    "\n",
    "Login_phone = Label(login_tk, text = 'Enter phone number')\n",
    "Login_phone.pack()\n",
    "Login_phone.config(justify = CENTER)\n",
    "\n",
    "Login_phone_input = Entry(login_tk, width = 30)\n",
    "Login_phone_input.pack()\n",
    "\n",
    "#Dept\n",
    "login_password = Label(login_tk, text = 'Enter password')\n",
    "login_password.pack()\n",
    "login_password.config(justify = CENTER)\n",
    "\n",
    "login_password_input = Entry(login_tk, show = \"*\", width = 30)\n",
    "login_password_input.pack()\n",
    "\n",
    "\n",
    "def register_user():\n",
    "    print(name_input.get())\n",
    "    # welcome.destroy()\n",
    "    reg_tk.grab_set()\n",
    "    user_count = mycol.count_documents({})\n",
    "    rollNo = 'GUVIDS'+str(user_count)\n",
    "\n",
    "    details = {\n",
    "        'name': name_input.get(), 'dept': dept_input.get(), 'Phone': phone_num_input.get(), 'email': mail_id_input.get(),\n",
    "              'password': password_input.get(), 'rollNo': rollNo\n",
    "    }\n",
    "    \n",
    "    x = mycol.insert_one(details)\n",
    "    print(x)\n",
    "    reg_tk.destroy()\n",
    "    \n",
    "def login_user():\n",
    "    print(mycol.find({}, { 'Phone': login_phone_input.get() }))\n",
    "\n",
    "def log_in():\n",
    "    login_tk.grab_set();\n",
    "\n",
    "\n",
    "# Welcome screen\n",
    "login = Button(welcome, text = 'login')\n",
    "login.pack() \n",
    "login.config(command = log_in)\n",
    "\n",
    "register = Button(welcome, text = 'register')\n",
    "register.pack() \n",
    "register.config(command = register_user)\n",
    "\n",
    "user_login = Button(login_tk, text = 'login')\n",
    "user_login.pack() \n",
    "user_login.config(command = login_user)\n",
    "\n",
    "welcome.mainloop()\n",
    "# Welcome screen End\n",
    "\n",
    "\n",
    "# Registration\n"
   ]
  },
  {
   "cell_type": "code",
   "execution_count": 14,
   "id": "b05ef472",
   "metadata": {},
   "outputs": [
    {
     "name": "stdout",
     "output_type": "stream",
     "text": [
      "xcz\n",
      "<pymongo.results.InsertOneResult object at 0x00000225D2704520>\n"
     ]
    },
    {
     "name": "stderr",
     "output_type": "stream",
     "text": [
      "Exception in Tkinter callback\n",
      "Traceback (most recent call last):\n",
      "  File \"C:\\ProgramData\\Anaconda3\\lib\\tkinter\\__init__.py\", line 1892, in __call__\n",
      "    return self.func(*args)\n",
      "  File \"C:\\Users\\KiKeNan\\AppData\\Local\\Temp\\ipykernel_8104\\1314466946.py\", line 48, in add_book\n",
      "    if date_issue >= todays_date:\n",
      "TypeError: '>=' not supported between instances of 'datetime.date' and 'str'\n"
     ]
    }
   ],
   "source": [
    "## Module 2\n",
    "\n",
    "Book_tk = Tk()\n",
    "userwelcome = Tk()\n",
    "\n",
    "\n",
    "Booktitle = Label(Book_tk, text = 'Title')\n",
    "Booktitle.pack()\n",
    "Booktitle.config(justify = CENTER)\n",
    "\n",
    "Booktitle_input = Entry(Book_tk, width = 30)\n",
    "Booktitle_input.pack()\n",
    "\n",
    "#Dept\n",
    "Author = Label(Book_tk, text = 'Author')\n",
    "Author.pack()\n",
    "Author.config(justify = CENTER)\n",
    "\n",
    "Author_input = Entry(Book_tk, width = 30)\n",
    "Author_input.pack()\n",
    "\n",
    "#Phone number\n",
    "ISBN_no = Label(Book_tk, text = 'ISBN_no')\n",
    "ISBN_no.pack()\n",
    "ISBN_no.config(justify = CENTER)\n",
    "\n",
    "ISBN_no_input = Entry(Book_tk, width = 30)\n",
    "ISBN_no_input.pack()\n",
    "\n",
    "\n",
    "\n",
    "def add_book():\n",
    "    print(Booktitle_input.get())\n",
    "    # welcome.destroy()\n",
    "    Book_tk.grab_set()\n",
    "    date_issue = date.today()\n",
    "    todays_date = \"Today's date: 29\"\n",
    "    \n",
    "    Books = {\n",
    "        'Book_title': Booktitle_input.get(), 'Author_name': Author_input.get(), 'ISBN_no': ISBN_no_input.get(), \n",
    "        'date_issue': todays_date\n",
    "    }\n",
    "    \n",
    "    y = books_col.insert_one(Books)\n",
    "    print(y)\n",
    "    Book_tk.destroy()\n",
    "\n",
    "    if date_issue >= todays_date:\n",
    "        print('return book soon')\n",
    "    elif todays_date == data_issue:\n",
    "        print('return book immediately')\n",
    "    else:\n",
    "        print(\"pay penalty\")\n",
    "\n",
    "\n",
    "addBook = Button(Book_tk, text = 'add book')\n",
    "addBook.pack() \n",
    "addBook.config(command = add_book)\n",
    "\n",
    "Book_tk.mainloop()"
   ]
  },
  {
   "cell_type": "code",
   "execution_count": 6,
   "id": "61a636e9",
   "metadata": {},
   "outputs": [],
   "source": [
    "## Module 2\n",
    "\n",
    "import ipywidgets as widgets\n",
    "import pandas as pd"
   ]
  },
  {
   "cell_type": "code",
   "execution_count": 7,
   "id": "f5cc157d",
   "metadata": {},
   "outputs": [
    {
     "data": {
      "application/vnd.jupyter.widget-view+json": {
       "model_id": "c4241ac75ce3402eb54878b0bb7453b8",
       "version_major": 2,
       "version_minor": 0
      },
      "text/plain": [
       "Combobox(value='', description='Search:', ensure_option=True, options=('Book title', 'Author'), placeholder='C…"
      ]
     },
     "metadata": {},
     "output_type": "display_data"
    }
   ],
   "source": [
    "## Module 2\n",
    "\n",
    "opt = widgets.Combobox(\n",
    "    placeholder='Choose Someone',\n",
    "    options=['Book title', 'Author'],\n",
    "    description='Search:',\n",
    "    ensure_option=True,\n",
    "    disabled=False\n",
    ")\n",
    "\n",
    "opt\n"
   ]
  },
  {
   "cell_type": "code",
   "execution_count": 8,
   "id": "35faa869",
   "metadata": {},
   "outputs": [
    {
     "data": {
      "application/vnd.jupyter.widget-view+json": {
       "model_id": "5876223c05d9432eb77fdea366eba2d9",
       "version_major": 2,
       "version_minor": 0
      },
      "text/plain": [
       "Text(value='', description='Book title Or Author:', placeholder='Type something')"
      ]
     },
     "metadata": {},
     "output_type": "display_data"
    }
   ],
   "source": [
    "val = widgets.Text(\n",
    "    value='',\n",
    "    placeholder='Type something',\n",
    "    description='Book title Or Author:',\n",
    "    disabled=False\n",
    ")\n",
    "\n",
    "val\n"
   ]
  },
  {
   "cell_type": "code",
   "execution_count": 9,
   "id": "34dda43c",
   "metadata": {},
   "outputs": [
    {
     "data": {
      "text/plain": [
       "''"
      ]
     },
     "execution_count": 9,
     "metadata": {},
     "output_type": "execute_result"
    }
   ],
   "source": [
    "opt.value\n",
    "val.value"
   ]
  },
  {
   "cell_type": "code",
   "execution_count": 10,
   "id": "e56f257e",
   "metadata": {},
   "outputs": [],
   "source": [
    "if opt.value == 'Book title':    \n",
    "    myquery = { \"Book title\": val.value }\n",
    "elif opt.value == 'Author':\n",
    "    myquery = { \"Author\": int(val.value) }\n",
    "    \n",
    "for x in books_col.find({},{ \"Books\": 0 }):\n",
    "    print(x)\n",
    "    \n"
   ]
  },
  {
   "cell_type": "code",
   "execution_count": 12,
   "id": "08bb73a8",
   "metadata": {},
   "outputs": [
    {
     "ename": "NameError",
     "evalue": "name 'columns' is not defined",
     "output_type": "error",
     "traceback": [
      "\u001b[1;31m---------------------------------------------------------------------------\u001b[0m",
      "\u001b[1;31mNameError\u001b[0m                                 Traceback (most recent call last)",
      "Input \u001b[1;32mIn [12]\u001b[0m, in \u001b[0;36m<cell line: 2>\u001b[1;34m()\u001b[0m\n\u001b[0;32m      1\u001b[0m Books \u001b[38;5;241m=\u001b[39m books_col\u001b[38;5;241m.\u001b[39mfind({})\n\u001b[1;32m----> 2\u001b[0m mgmt \u001b[38;5;241m=\u001b[39m pd\u001b[38;5;241m.\u001b[39mDataFrame(Books, \u001b[43mcolumns\u001b[49m[\u001b[38;5;124m'\u001b[39m\u001b[38;5;124mBook title\u001b[39m\u001b[38;5;124m'\u001b[39m, \u001b[38;5;124m'\u001b[39m\u001b[38;5;124mdate_issue\u001b[39m\u001b[38;5;124m'\u001b[39m])\n",
      "\u001b[1;31mNameError\u001b[0m: name 'columns' is not defined"
     ]
    }
   ],
   "source": [
    "Books = books_col.find({})\n",
    "mgmt = pd.DataFrame(Books, columns['Book title', 'date_issue', 'penalty'])"
   ]
  },
  {
   "cell_type": "code",
   "execution_count": null,
   "id": "2635a880",
   "metadata": {},
   "outputs": [],
   "source": []
  }
 ],
 "metadata": {
  "kernelspec": {
   "display_name": "Python 3 (ipykernel)",
   "language": "python",
   "name": "python3"
  },
  "language_info": {
   "codemirror_mode": {
    "name": "ipython",
    "version": 3
   },
   "file_extension": ".py",
   "mimetype": "text/x-python",
   "name": "python",
   "nbconvert_exporter": "python",
   "pygments_lexer": "ipython3",
   "version": "3.9.12"
  }
 },
 "nbformat": 4,
 "nbformat_minor": 5
}
